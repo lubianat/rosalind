{
 "cells": [
  {
   "cell_type": "code",
   "execution_count": 16,
   "metadata": {},
   "outputs": [],
   "source": [
    "f = open(\"rosalind_dna.txt\", \"r\")\n",
    "sequence = f.read()\n",
    "f.close()"
   ]
  },
  {
   "cell_type": "code",
   "execution_count": 17,
   "metadata": {},
   "outputs": [],
   "source": [
    "\n",
    "base_counter = {}\n",
    "for i in sequence:\n",
    "    if i not in base_counter:\n",
    "         base_counter[i] = 1\n",
    "    else:\n",
    "        base_counter[i] +=1"
   ]
  },
  {
   "cell_type": "code",
   "execution_count": 18,
   "metadata": {},
   "outputs": [],
   "source": [
    "def get_base_count(base):\n",
    "    return(str(base_counter[base]))\n",
    "           \n",
    "f = open(\"dna_output.txt\", \"w\")\n",
    "f.write(get_base_count(\"A\") + \" \" + get_base_count(\"C\") + \" \" + get_base_count(\"G\") + \" \" + get_base_count(\"T\"))\n",
    "f.close()"
   ]
  }
 ],
 "metadata": {
  "kernelspec": {
   "display_name": "Python 3",
   "language": "python",
   "name": "python3"
  },
  "language_info": {
   "codemirror_mode": {
    "name": "ipython",
    "version": 3
   },
   "file_extension": ".py",
   "mimetype": "text/x-python",
   "name": "python",
   "nbconvert_exporter": "python",
   "pygments_lexer": "ipython3",
   "version": "3.6.9"
  }
 },
 "nbformat": 4,
 "nbformat_minor": 4
}
